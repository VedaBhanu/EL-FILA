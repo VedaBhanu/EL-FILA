{
  "nbformat": 4,
  "nbformat_minor": 0,
  "metadata": {
    "colab": {
      "name": "Reduced_Techniques_Metals123.ipynb",
      "provenance": [],
      "collapsed_sections": []
    },
    "kernelspec": {
      "display_name": "Python 3",
      "language": "python",
      "name": "python3"
    },
    "language_info": {
      "codemirror_mode": {
        "name": "ipython",
        "version": 3
      },
      "file_extension": ".py",
      "mimetype": "text/x-python",
      "name": "python",
      "nbconvert_exporter": "python",
      "pygments_lexer": "ipython3",
      "version": "3.7.4"
    }
  },
  "cells": [
    {
      "cell_type": "code",
      "metadata": {
        "colab": {
          "base_uri": "https://localhost:8080/",
          "height": 419
        },
        "id": "WGonVGVlCaJa",
        "outputId": "7ec9ab3d-e686-4ee4-e798-980b1cae588a"
      },
      "source": [
        "import pandas as pd\n",
        "df = pd.read_csv('data.csv')\n",
        "df"
      ],
      "execution_count": null,
      "outputs": [
        {
          "output_type": "execute_result",
          "data": {
            "text/html": [
              "<div>\n",
              "<style scoped>\n",
              "    .dataframe tbody tr th:only-of-type {\n",
              "        vertical-align: middle;\n",
              "    }\n",
              "\n",
              "    .dataframe tbody tr th {\n",
              "        vertical-align: top;\n",
              "    }\n",
              "\n",
              "    .dataframe thead th {\n",
              "        text-align: right;\n",
              "    }\n",
              "</style>\n",
              "<table border=\"1\" class=\"dataframe\">\n",
              "  <thead>\n",
              "    <tr style=\"text-align: right;\">\n",
              "      <th></th>\n",
              "      <th>Application</th>\n",
              "      <th>Length(mm)</th>\n",
              "      <th>Width(um)</th>\n",
              "      <th>Material_Type</th>\n",
              "      <th>Frequency(MHz)</th>\n",
              "      <th>Power(nWatts)</th>\n",
              "    </tr>\n",
              "  </thead>\n",
              "  <tbody>\n",
              "    <tr>\n",
              "      <th>0</th>\n",
              "      <td>1</td>\n",
              "      <td>1.00</td>\n",
              "      <td>0.10</td>\n",
              "      <td>M1</td>\n",
              "      <td>128.0</td>\n",
              "      <td>349.40</td>\n",
              "    </tr>\n",
              "    <tr>\n",
              "      <th>1</th>\n",
              "      <td>1</td>\n",
              "      <td>1.00</td>\n",
              "      <td>0.25</td>\n",
              "      <td>M1</td>\n",
              "      <td>128.0</td>\n",
              "      <td>196.10</td>\n",
              "    </tr>\n",
              "    <tr>\n",
              "      <th>2</th>\n",
              "      <td>1</td>\n",
              "      <td>1.00</td>\n",
              "      <td>0.40</td>\n",
              "      <td>M1</td>\n",
              "      <td>128.0</td>\n",
              "      <td>142.80</td>\n",
              "    </tr>\n",
              "    <tr>\n",
              "      <th>3</th>\n",
              "      <td>1</td>\n",
              "      <td>1.00</td>\n",
              "      <td>0.80</td>\n",
              "      <td>M1</td>\n",
              "      <td>128.0</td>\n",
              "      <td>95.18</td>\n",
              "    </tr>\n",
              "    <tr>\n",
              "      <th>4</th>\n",
              "      <td>1</td>\n",
              "      <td>1.00</td>\n",
              "      <td>1.00</td>\n",
              "      <td>M1</td>\n",
              "      <td>128.0</td>\n",
              "      <td>82.37</td>\n",
              "    </tr>\n",
              "    <tr>\n",
              "      <th>...</th>\n",
              "      <td>...</td>\n",
              "      <td>...</td>\n",
              "      <td>...</td>\n",
              "      <td>...</td>\n",
              "      <td>...</td>\n",
              "      <td>...</td>\n",
              "    </tr>\n",
              "    <tr>\n",
              "      <th>387</th>\n",
              "      <td>11</td>\n",
              "      <td>7.07</td>\n",
              "      <td>0.80</td>\n",
              "      <td>M1</td>\n",
              "      <td>62.5</td>\n",
              "      <td>32.19</td>\n",
              "    </tr>\n",
              "    <tr>\n",
              "      <th>388</th>\n",
              "      <td>12</td>\n",
              "      <td>10.00</td>\n",
              "      <td>0.80</td>\n",
              "      <td>M1</td>\n",
              "      <td>500.0</td>\n",
              "      <td>158.10</td>\n",
              "    </tr>\n",
              "    <tr>\n",
              "      <th>389</th>\n",
              "      <td>12</td>\n",
              "      <td>10.00</td>\n",
              "      <td>0.80</td>\n",
              "      <td>M1</td>\n",
              "      <td>250.0</td>\n",
              "      <td>138.00</td>\n",
              "    </tr>\n",
              "    <tr>\n",
              "      <th>390</th>\n",
              "      <td>12</td>\n",
              "      <td>10.00</td>\n",
              "      <td>0.80</td>\n",
              "      <td>M1</td>\n",
              "      <td>125.0</td>\n",
              "      <td>89.00</td>\n",
              "    </tr>\n",
              "    <tr>\n",
              "      <th>391</th>\n",
              "      <td>12</td>\n",
              "      <td>10.00</td>\n",
              "      <td>0.80</td>\n",
              "      <td>M1</td>\n",
              "      <td>62.5</td>\n",
              "      <td>46.00</td>\n",
              "    </tr>\n",
              "  </tbody>\n",
              "</table>\n",
              "<p>392 rows × 6 columns</p>\n",
              "</div>"
            ],
            "text/plain": [
              "     Application  Length(mm)  ...  Frequency(MHz) Power(nWatts)\n",
              "0              1        1.00  ...           128.0        349.40\n",
              "1              1        1.00  ...           128.0        196.10\n",
              "2              1        1.00  ...           128.0        142.80\n",
              "3              1        1.00  ...           128.0         95.18\n",
              "4              1        1.00  ...           128.0         82.37\n",
              "..           ...         ...  ...             ...           ...\n",
              "387           11        7.07  ...            62.5         32.19\n",
              "388           12       10.00  ...           500.0        158.10\n",
              "389           12       10.00  ...           250.0        138.00\n",
              "390           12       10.00  ...           125.0         89.00\n",
              "391           12       10.00  ...            62.5         46.00\n",
              "\n",
              "[392 rows x 6 columns]"
            ]
          },
          "metadata": {},
          "execution_count": 11
        }
      ]
    },
    {
      "cell_type": "markdown",
      "metadata": {
        "id": "B-GuxCO3KHvd"
      },
      "source": [
        "# New Section"
      ]
    },
    {
      "cell_type": "code",
      "metadata": {
        "colab": {
          "base_uri": "https://localhost:8080/",
          "height": 214
        },
        "id": "6FnraB0QFc00",
        "outputId": "f0629747-a877-4ba4-9d55-a6d0b92375c7"
      },
      "source": [
        "import numpy as np\n",
        "import seaborn as sns\n",
        "# Create the default pairplot\n",
        "#sns.pairplot(df,kind=\"reg\")\n",
        "#sns.pairplot(df, hue = 'Width(um)')\n",
        "#sns.pairplot(df, vars=[\"Width(um)\", \"Frequency(MHz)\"], hue='Application', height=5, aspect=.8, kind=\"reg\")\n",
        "sns.pairplot(df, x_vars=[\"Width(um)\", \"Frequency(MHz)\", \"Material_Type\",\"Application\",\"Length(mm)\"], y_vars=[\"Power(nWatts)\"])\n",
        "#sns.lmplot(x=\"Frequency(MHz)\", y=\"Power(nWatts)\", data=df,x_estimator=np.mean)\n",
        "#sns.jointplot(x=\"Frequency(MHz)\", y=\"Power(nWatts)\", data=df, kind=\"reg\");\n"
      ],
      "execution_count": null,
      "outputs": [
        {
          "output_type": "execute_result",
          "data": {
            "text/plain": [
              "<seaborn.axisgrid.PairGrid at 0x7fc281b6f9d0>"
            ]
          },
          "metadata": {},
          "execution_count": 12
        },
        {
          "output_type": "display_data",
          "data": {
            "image/png": "[encoded data removed]",
            "text/plain": [
              "<Figure size 900x180 with 5 Axes>"
            ]
          },
          "metadata": {
            "needs_background": "light"
          }
        }
      ]
    },
    {
      "cell_type": "code",
      "metadata": {
        "colab": {
          "base_uri": "https://localhost:8080/",
          "height": 357
        },
        "id": "11dwqH1aRLXV",
        "outputId": "b4b04cbf-81c6-4696-8433-358cd66bea23"
      },
      "source": [
        "# Calculating the correlation matrix\n",
        "corr = df.corr()\n",
        "# Generating a heatmap\n",
        "sns.heatmap(corr,xticklabels=corr.columns, yticklabels=corr.columns, annot = True, fmt='.1g', cmap= 'coolwarm',linewidths=3, linecolor='black')"
      ],
      "execution_count": null,
      "outputs": [
        {
          "output_type": "execute_result",
          "data": {
            "text/plain": [
              "<matplotlib.axes._subplots.AxesSubplot at 0x7fc2819fea90>"
            ]
          },
          "metadata": {},
          "execution_count": 13
        },
        {
          "output_type": "display_data",
          "data": {
            "image/png": "[encoded data removed]",
            "text/plain": [
              "<Figure size 432x288 with 2 Axes>"
            ]
          },
          "metadata": {
            "needs_background": "light"
          }
        }
      ]
    },
    {
      "cell_type": "code",
      "metadata": {
        "id": "8VG-FKtlDrbR"
      },
      "source": [
        "df=df.drop('Application', axis='columns')"
      ],
      "execution_count": null,
      "outputs": []
    },
    {
      "cell_type": "markdown",
      "metadata": {
        "id": "tn3M3TPjDrbV"
      },
      "source": [
        "## df Hotcoding"
      ]
    },
    {
      "cell_type": "code",
      "metadata": {
        "colab": {
          "base_uri": "https://localhost:8080/",
          "height": 419
        },
        "id": "FMCQs89lDrbX",
        "scrolled": true,
        "outputId": "ed3cbeb4-950f-4141-ab36-d1bb3d049e14"
      },
      "source": [
        "df_dummies = pd.get_dummies(df.Material_Type)\n",
        "merged = pd.concat([df, df_dummies],axis='columns')\n",
        "final_df=merged.drop(['Material_Type','M3'],axis='columns')\n",
        "final_df"
      ],
      "execution_count": null,
      "outputs": [
        {
          "output_type": "execute_result",
          "data": {
            "text/html": [
              "<div>\n",
              "<style scoped>\n",
              "    .dataframe tbody tr th:only-of-type {\n",
              "        vertical-align: middle;\n",
              "    }\n",
              "\n",
              "    .dataframe tbody tr th {\n",
              "        vertical-align: top;\n",
              "    }\n",
              "\n",
              "    .dataframe thead th {\n",
              "        text-align: right;\n",
              "    }\n",
              "</style>\n",
              "<table border=\"1\" class=\"dataframe\">\n",
              "  <thead>\n",
              "    <tr style=\"text-align: right;\">\n",
              "      <th></th>\n",
              "      <th>Length(mm)</th>\n",
              "      <th>Width(um)</th>\n",
              "      <th>Frequency(MHz)</th>\n",
              "      <th>Power(nWatts)</th>\n",
              "      <th>M1</th>\n",
              "      <th>M2</th>\n",
              "    </tr>\n",
              "  </thead>\n",
              "  <tbody>\n",
              "    <tr>\n",
              "      <th>0</th>\n",
              "      <td>1.00</td>\n",
              "      <td>0.10</td>\n",
              "      <td>128.0</td>\n",
              "      <td>349.40</td>\n",
              "      <td>1</td>\n",
              "      <td>0</td>\n",
              "    </tr>\n",
              "    <tr>\n",
              "      <th>1</th>\n",
              "      <td>1.00</td>\n",
              "      <td>0.25</td>\n",
              "      <td>128.0</td>\n",
              "      <td>196.10</td>\n",
              "      <td>1</td>\n",
              "      <td>0</td>\n",
              "    </tr>\n",
              "    <tr>\n",
              "      <th>2</th>\n",
              "      <td>1.00</td>\n",
              "      <td>0.40</td>\n",
              "      <td>128.0</td>\n",
              "      <td>142.80</td>\n",
              "      <td>1</td>\n",
              "      <td>0</td>\n",
              "    </tr>\n",
              "    <tr>\n",
              "      <th>3</th>\n",
              "      <td>1.00</td>\n",
              "      <td>0.80</td>\n",
              "      <td>128.0</td>\n",
              "      <td>95.18</td>\n",
              "      <td>1</td>\n",
              "      <td>0</td>\n",
              "    </tr>\n",
              "    <tr>\n",
              "      <th>4</th>\n",
              "      <td>1.00</td>\n",
              "      <td>1.00</td>\n",
              "      <td>128.0</td>\n",
              "      <td>82.37</td>\n",
              "      <td>1</td>\n",
              "      <td>0</td>\n",
              "    </tr>\n",
              "    <tr>\n",
              "      <th>...</th>\n",
              "      <td>...</td>\n",
              "      <td>...</td>\n",
              "      <td>...</td>\n",
              "      <td>...</td>\n",
              "      <td>...</td>\n",
              "      <td>...</td>\n",
              "    </tr>\n",
              "    <tr>\n",
              "      <th>387</th>\n",
              "      <td>7.07</td>\n",
              "      <td>0.80</td>\n",
              "      <td>62.5</td>\n",
              "      <td>32.19</td>\n",
              "      <td>1</td>\n",
              "      <td>0</td>\n",
              "    </tr>\n",
              "    <tr>\n",
              "      <th>388</th>\n",
              "      <td>10.00</td>\n",
              "      <td>0.80</td>\n",
              "      <td>500.0</td>\n",
              "      <td>158.10</td>\n",
              "      <td>1</td>\n",
              "      <td>0</td>\n",
              "    </tr>\n",
              "    <tr>\n",
              "      <th>389</th>\n",
              "      <td>10.00</td>\n",
              "      <td>0.80</td>\n",
              "      <td>250.0</td>\n",
              "      <td>138.00</td>\n",
              "      <td>1</td>\n",
              "      <td>0</td>\n",
              "    </tr>\n",
              "    <tr>\n",
              "      <th>390</th>\n",
              "      <td>10.00</td>\n",
              "      <td>0.80</td>\n",
              "      <td>125.0</td>\n",
              "      <td>89.00</td>\n",
              "      <td>1</td>\n",
              "      <td>0</td>\n",
              "    </tr>\n",
              "    <tr>\n",
              "      <th>391</th>\n",
              "      <td>10.00</td>\n",
              "      <td>0.80</td>\n",
              "      <td>62.5</td>\n",
              "      <td>46.00</td>\n",
              "      <td>1</td>\n",
              "      <td>0</td>\n",
              "    </tr>\n",
              "  </tbody>\n",
              "</table>\n",
              "<p>392 rows × 6 columns</p>\n",
              "</div>"
            ],
            "text/plain": [
              "     Length(mm)  Width(um)  Frequency(MHz)  Power(nWatts)  M1  M2\n",
              "0          1.00       0.10           128.0         349.40   1   0\n",
              "1          1.00       0.25           128.0         196.10   1   0\n",
              "2          1.00       0.40           128.0         142.80   1   0\n",
              "3          1.00       0.80           128.0          95.18   1   0\n",
              "4          1.00       1.00           128.0          82.37   1   0\n",
              "..          ...        ...             ...            ...  ..  ..\n",
              "387        7.07       0.80            62.5          32.19   1   0\n",
              "388       10.00       0.80           500.0         158.10   1   0\n",
              "389       10.00       0.80           250.0         138.00   1   0\n",
              "390       10.00       0.80           125.0          89.00   1   0\n",
              "391       10.00       0.80            62.5          46.00   1   0\n",
              "\n",
              "[392 rows x 6 columns]"
            ]
          },
          "metadata": {},
          "execution_count": 15
        }
      ]
    },
    {
      "cell_type": "code",
      "metadata": {
        "colab": {
          "base_uri": "https://localhost:8080/"
        },
        "id": "xrVQx-QHDrbZ",
        "scrolled": true,
        "outputId": "70acaa4d-c4d6-42d0-9916-0ba4a73a4d8c"
      },
      "source": [
        "import numpy as np\n",
        "import pandas as pd\n",
        "import matplotlib.pyplot as plt\n",
        "#%matplotlib inline\n",
        "\n",
        "#mean\n",
        "\n",
        "print (\"Mean: \",final_df['Power(nWatts)'].mean())\n",
        "\n",
        "#median\n",
        "\n",
        "print (\"Median: \",final_df['Power(nWatts)'].median())\n",
        "\n",
        "#mode\n",
        "\n",
        "print (\"Mode: \",final_df['Power(nWatts)'].mode())\n",
        "\n",
        "# minimum\n",
        "print (\"Minimum: \",final_df['Power(nWatts)'].min())\n",
        "\n",
        "#maximum\n",
        "print (\"Maximum: \",final_df['Power(nWatts)'].max())\n",
        "\n",
        "#variance\n",
        "\n",
        "print (\"Variance: \",final_df['Power(nWatts)'].var(),2)\n",
        "\n",
        "#standard deviation\n",
        "\n",
        "print (\"std: \",final_df['Power(nWatts)'].std(),2)\n",
        "\n",
        "#range or spread\n",
        "\n",
        "print (\"range: \",final_df['Power(nWatts)'].max()-final_df['Power(nWatts)'].min())\n",
        "\n",
        "#skewness usually describesthe lack of symmetry from the mean a perfectly symmetrical data will have a skewness of 0\n",
        "#for example a normal distribution will have a skewness of 0\n",
        "\n",
        "print (\"skewness: \",round(final_df['Power(nWatts)'].skew(),2))\n",
        "\n",
        "# kurtosis\n",
        "\n",
        "#positive kurtosis represents the distribution is more peak towards normal distribution,\n",
        "# whereas negative kurtosis shows the distribution is less peak towards normal distribution\n",
        "\n",
        "print (\"kurtosis: \",round(final_df['Power(nWatts)'].kurt(),2))\n",
        "\n"
      ],
      "execution_count": null,
      "outputs": [
        {
          "output_type": "stream",
          "name": "stdout",
          "text": [
            "Mean:  110.08197695609356\n",
            "Median:  0.306\n",
            "Minimum:  8.8e-09\n",
            "Maximum:  3549.0\n",
            "Variance:  115355.61457113163 2\n",
            "std:  339.6404195191315 2\n",
            "range:  3548.9999999912\n",
            "skewness:  5.78\n",
            "kurtosis:  41.94\n"
          ]
        }
      ]
    },
    {
      "cell_type": "code",
      "metadata": {
        "colab": {
          "base_uri": "https://localhost:8080/"
        },
        "id": "wtSt5jhKDrbd",
        "scrolled": true,
        "outputId": "34dd89eb-55cf-408a-bc23-a5cdd1252421"
      },
      "source": [
        "df['Power(nWatts)'].describe()"
      ],
      "execution_count": null,
      "outputs": [
        {
          "output_type": "execute_result",
          "data": {
            "text/plain": [
              "count    3.920000e+02\n",
              "mean     1.100820e+02\n",
              "std      3.396404e+02\n",
              "min      8.800000e-09\n",
              "25%      2.249000e-03\n",
              "50%      3.060000e-01\n",
              "75%      5.799000e+01\n",
              "max      3.549000e+03\n",
              "Name: Power(nWatts), dtype: float64"
            ]
          },
          "metadata": {},
          "execution_count": 17
        }
      ]
    },
    {
      "cell_type": "code",
      "metadata": {
        "id": "XMFsrRsWDrbg"
      },
      "source": [
        "X = final_df.drop('Power(nWatts)',axis='columns')\n",
        "y = final_df['Power(nWatts)']\n",
        "from sklearn.model_selection import train_test_split\n",
        "X_train, X_test, y_train, y_test = train_test_split(X,y,test_size=0.2)"
      ],
      "execution_count": null,
      "outputs": []
    },
    {
      "cell_type": "markdown",
      "metadata": {
        "id": "eZLwaj2TDrbi"
      },
      "source": [
        "## Individual techniques:"
      ]
    },
    {
      "cell_type": "markdown",
      "metadata": {
        "id": "srzbEyocDrbj"
      },
      "source": [
        "### 1. Linear Regression"
      ]
    },
    {
      "cell_type": "code",
      "metadata": {
        "colab": {
          "base_uri": "https://localhost:8080/"
        },
        "id": "vID_SGwDDrbl",
        "outputId": "47bb7527-d67e-4b14-f16e-1f32f89e8d2a"
      },
      "source": [
        "from sklearn.linear_model import LinearRegression\n",
        "model = LinearRegression()\n",
        "model.fit(X_train,y_train)\n",
        "model.score(X_test,y_test)"
      ],
      "execution_count": null,
      "outputs": [
        {
          "output_type": "execute_result",
          "data": {
            "text/plain": [
              "0.5713929846920796"
            ]
          },
          "metadata": {},
          "execution_count": 19
        }
      ]
    },
    {
      "cell_type": "code",
      "metadata": {
        "colab": {
          "base_uri": "https://localhost:8080/"
        },
        "id": "NPB4sSEjDrbn",
        "outputId": "5672f259-3e4d-47e0-9b7d-627ce70b1c55"
      },
      "source": [
        "y_predicted = model.predict(X_test)\n",
        "from sklearn import metrics\n",
        "import numpy as np\n",
        "from scipy.stats import pearsonr\n",
        "\n",
        "print('Mean Absolute Error(MAE):', metrics.mean_absolute_error(y_test, y_predicted))\n",
        "print('Mean Squared Error(MSE):', metrics.mean_squared_error(y_test, y_predicted))\n",
        "print('Root Mean Squared Error(RMSE):', np.sqrt(metrics.mean_squared_error(y_test, y_predicted)))\n",
        "print(' Root relative square error(RRMSE):',np.sqrt(metrics.mean_squared_error(y_test, y_predicted))/np.std(y_predicted))\n",
        "corr, _ = pearsonr(y_test, y_predicted)\n",
        "print('Pearsons correlation coefficient(R): %.3f' % corr)\n",
        "print('Coefficient of Determination(R2):', metrics.r2_score(y_test, y_predicted))"
      ],
      "execution_count": null,
      "outputs": [
        {
          "output_type": "stream",
          "name": "stdout",
          "text": [
            "Mean Absolute Error(MAE): 115.27873026501105\n",
            "Mean Squared Error(MSE): 71139.35864788844\n",
            "Root Mean Squared Error(RMSE): 266.71962553942\n",
            " Root relative square error(RRMSE): 0.9544438833246315\n",
            "Pearsons correlation coefficient(R): 0.761\n",
            "Coefficient of Determination(R2): 0.5713929846920796\n"
          ]
        }
      ]
    },
    {
      "cell_type": "markdown",
      "metadata": {
        "id": "2wr34Gg8Drbq"
      },
      "source": [
        "### 3. SVM_Linear"
      ]
    },
    {
      "cell_type": "code",
      "metadata": {
        "colab": {
          "base_uri": "https://localhost:8080/"
        },
        "id": "C8B3ZZzMDrbr",
        "outputId": "d5a79518-cdce-4af4-c3c4-0578ec85a9dc"
      },
      "source": [
        "from sklearn import svm\n",
        "\n",
        "model = svm.SVR(kernel='linear')\n",
        "model.fit(X_train,y_train)\n",
        "model.score(X_test,y_test)\n"
      ],
      "execution_count": null,
      "outputs": [
        {
          "output_type": "execute_result",
          "data": {
            "text/plain": [
              "0.41214077280712375"
            ]
          },
          "metadata": {},
          "execution_count": 21
        }
      ]
    },
    {
      "cell_type": "code",
      "metadata": {
        "colab": {
          "base_uri": "https://localhost:8080/"
        },
        "id": "1MA8ZO6aDrbu",
        "outputId": "9804006e-3410-48c6-ebc5-61c5360895e6"
      },
      "source": [
        "y_predicted = model.predict(X_test)\n",
        "from sklearn import metrics\n",
        "import numpy as np\n",
        "from scipy.stats import pearsonr\n",
        "\n",
        "print('Mean Absolute Error(MAE):', metrics.mean_absolute_error(y_test, y_predicted))\n",
        "print('Mean Squared Error(MSE):', metrics.mean_squared_error(y_test, y_predicted))\n",
        "print('Root Mean Squared Error(RMSE):', np.sqrt(metrics.mean_squared_error(y_test, y_predicted)))\n",
        "print(' Root relative square error(RRMSE):',np.sqrt(metrics.mean_squared_error(y_test, y_predicted))/np.std(y_predicted))\n",
        "corr, _ = pearsonr(y_test, y_predicted)\n",
        "print('Pearsons correlation coefficient(R): %.3f' % corr)\n",
        "print('Coefficient of Determination(R2):', metrics.r2_score(y_test, y_predicted))"
      ],
      "execution_count": null,
      "outputs": [
        {
          "output_type": "stream",
          "name": "stdout",
          "text": [
            "Mean Absolute Error(MAE): 82.54247368902142\n",
            "Mean Squared Error(MSE): 97571.73098928451\n",
            "Root Mean Squared Error(RMSE): 312.3647403105615\n",
            " Root relative square error(RRMSE): 1.8337151566734382\n",
            "Pearsons correlation coefficient(R): 0.715\n",
            "Coefficient of Determination(R2): 0.4121407728071237\n"
          ]
        }
      ]
    },
    {
      "cell_type": "markdown",
      "metadata": {
        "id": "g02hKkJ9Drbx"
      },
      "source": [
        "### 4. SVM_Quadratic:"
      ]
    },
    {
      "cell_type": "code",
      "metadata": {
        "colab": {
          "base_uri": "https://localhost:8080/"
        },
        "id": "ATkquTryDrby",
        "outputId": "f01bb45d-c482-4771-aa66-db75495e4a37"
      },
      "source": [
        "from sklearn import svm\n",
        "\n",
        "model = svm.SVR(kernel='poly', degree=2)\n",
        "model.fit(X_train,y_train)\n",
        "model.score(X_test,y_test)"
      ],
      "execution_count": null,
      "outputs": [
        {
          "output_type": "execute_result",
          "data": {
            "text/plain": [
              "0.3732622110199237"
            ]
          },
          "metadata": {},
          "execution_count": 23
        }
      ]
    },
    {
      "cell_type": "code",
      "metadata": {
        "colab": {
          "base_uri": "https://localhost:8080/"
        },
        "id": "B3R1S_XWDrb0",
        "outputId": "7c01258a-901f-4e25-bd41-af55df20b1ca"
      },
      "source": [
        "y_predicted = model.predict(X_test)\n",
        "from sklearn import metrics\n",
        "import numpy as np\n",
        "from scipy.stats import pearsonr\n",
        "\n",
        "print('Mean Absolute Error(MAE):', metrics.mean_absolute_error(y_test, y_predicted))\n",
        "print('Mean Squared Error(MSE):', metrics.mean_squared_error(y_test, y_predicted))\n",
        "print('Root Mean Squared Error(RMSE):', np.sqrt(metrics.mean_squared_error(y_test, y_predicted)))\n",
        "print(' Root relative square error(RRMSE):',np.sqrt(metrics.mean_squared_error(y_test, y_predicted))/np.std(y_predicted))\n",
        "corr, _ = pearsonr(y_test, y_predicted)\n",
        "print('Pearsons correlation coefficient(R): %.3f' % corr)\n",
        "print('Coefficient of Determination(R2):', metrics.r2_score(y_test, y_predicted))"
      ],
      "execution_count": null,
      "outputs": [
        {
          "output_type": "stream",
          "name": "stdout",
          "text": [
            "Mean Absolute Error(MAE): 91.26351067863412\n",
            "Mean Squared Error(MSE): 104024.71904573689\n",
            "Root Mean Squared Error(RMSE): 322.52863290836194\n",
            " Root relative square error(RRMSE): 1.6688700833631964\n",
            "Pearsons correlation coefficient(R): 0.656\n",
            "Coefficient of Determination(R2): 0.37326221101992374\n"
          ]
        }
      ]
    },
    {
      "cell_type": "markdown",
      "metadata": {
        "id": "eTm-cHOlDrb1"
      },
      "source": [
        "### 5. SVM_Cubic:"
      ]
    },
    {
      "cell_type": "code",
      "metadata": {
        "colab": {
          "base_uri": "https://localhost:8080/"
        },
        "id": "MUsKqb-HDrb2",
        "outputId": "e58ec962-4cd0-480f-845f-49cc08d60f36"
      },
      "source": [
        "from sklearn import svm\n",
        "\n",
        "model = svm.SVR(kernel='poly', degree=3)\n",
        "model.fit(X_train,y_train)\n",
        "model.score(X_test,y_test)"
      ],
      "execution_count": null,
      "outputs": [
        {
          "output_type": "execute_result",
          "data": {
            "text/plain": [
              "0.3019728214736819"
            ]
          },
          "metadata": {},
          "execution_count": 25
        }
      ]
    },
    {
      "cell_type": "code",
      "metadata": {
        "colab": {
          "base_uri": "https://localhost:8080/"
        },
        "id": "bf4veYaeDrb4",
        "outputId": "43661892-3db4-422a-e95a-c884e8ba18cc"
      },
      "source": [
        "y_predicted = model.predict(X_test)\n",
        "from sklearn import metrics\n",
        "import numpy as np\n",
        "from scipy.stats import pearsonr\n",
        "\n",
        "print('Mean Absolute Error(MAE):', metrics.mean_absolute_error(y_test, y_predicted))\n",
        "print('Mean Squared Error(MSE):', metrics.mean_squared_error(y_test, y_predicted))\n",
        "print('Root Mean Squared Error(RMSE):', np.sqrt(metrics.mean_squared_error(y_test, y_predicted)))\n",
        "print('std(RRMSE):',np.sqrt(metrics.mean_squared_error(y_test, y_predicted))/np.std(y_predicted))\n",
        "corr, _ = pearsonr(y_test, y_predicted)\n",
        "print('Pearsons correlation coefficient(R): %.3f' % corr)\n",
        "print('Coefficient of Determination(R2):', metrics.r2_score(y_test, y_predicted))\n"
      ],
      "execution_count": null,
      "outputs": [
        {
          "output_type": "stream",
          "name": "stdout",
          "text": [
            "Mean Absolute Error(MAE): 104.12032200474705\n",
            "Mean Squared Error(MSE): 115857.19324608489\n",
            "Root Mean Squared Error(RMSE): 340.3780152214371\n",
            "std(RRMSE): 1.3923948951951917\n",
            "Pearsons correlation coefficient(R): 0.570\n",
            "Coefficient of Determination(R2): 0.3019728214736819\n"
          ]
        }
      ]
    },
    {
      "cell_type": "markdown",
      "metadata": {
        "id": "NEpg1ei-Drb7"
      },
      "source": [
        "### GPR with exponential Kernel"
      ]
    },
    {
      "cell_type": "code",
      "metadata": {
        "colab": {
          "base_uri": "https://localhost:8080/"
        },
        "id": "8qjAp84DDrb9",
        "outputId": "ae389865-df7d-4ae0-c70c-cf54c31c6eab"
      },
      "source": [
        "\n",
        "from sklearn.gaussian_process import GaussianProcessRegressor\n",
        "from sklearn.gaussian_process.kernels import ExpSineSquared\n",
        "kernel = ExpSineSquared(length_scale=1, periodicity=1)\n",
        "model = GaussianProcessRegressor(kernel=kernel, n_restarts_optimizer=10, alpha=0.1, normalize_y=True)\n",
        "model.fit(X_train,y_train)\n",
        "model.score(X_test,y_test)\n"
      ],
      "execution_count": null,
      "outputs": [
        {
          "output_type": "execute_result",
          "data": {
            "text/plain": [
              "0.5357324880886779"
            ]
          },
          "metadata": {},
          "execution_count": 27
        }
      ]
    },
    {
      "cell_type": "code",
      "metadata": {
        "colab": {
          "base_uri": "https://localhost:8080/"
        },
        "id": "_55oRbpeDrb_",
        "scrolled": true,
        "outputId": "3c8b7283-0be0-4dcd-e473-4f853f1595b8"
      },
      "source": [
        "y_predicted = model.predict(X_test)\n",
        "from sklearn import metrics\n",
        "import numpy as np\n",
        "from scipy.stats import pearsonr\n",
        "\n",
        "print('Mean Absolute Error(MAE):', metrics.mean_absolute_error(y_test, y_predicted))\n",
        "print('Mean Squared Error(MSE):', metrics.mean_squared_error(y_test, y_predicted))\n",
        "print('Root Mean Squared Error(RMSE):', np.sqrt(metrics.mean_squared_error(y_test, y_predicted)))\n",
        "print('std(RRMSE):',np.sqrt(metrics.mean_squared_error(y_test, y_predicted))/np.std(y_predicted))\n",
        "corr, _ = pearsonr(y_test, y_predicted)\n",
        "print('Pearsons correlation coefficient(R): %.3f' % corr)\n",
        "print('Coefficient of Determination(R2):', metrics.r2_score(y_test, y_predicted))\n"
      ],
      "execution_count": null,
      "outputs": [
        {
          "output_type": "stream",
          "name": "stdout",
          "text": [
            "Mean Absolute Error(MAE): 78.55416275401663\n",
            "Mean Squared Error(MSE): 77058.21850511373\n",
            "Root Mean Squared Error(RMSE): 277.59362115350154\n",
            "std(RRMSE): 1.7902026336577215\n",
            "Pearsons correlation coefficient(R): 0.915\n",
            "Coefficient of Determination(R2): 0.5357324880886779\n"
          ]
        }
      ]
    },
    {
      "cell_type": "markdown",
      "metadata": {
        "id": "WOdaxXBEDrcC"
      },
      "source": [
        "### Decision Tree"
      ]
    },
    {
      "cell_type": "code",
      "metadata": {
        "colab": {
          "base_uri": "https://localhost:8080/"
        },
        "id": "_OIZcZQ5DrcD",
        "outputId": "83083c14-4d3c-4326-83ec-17e3e4326f7b"
      },
      "source": [
        "from sklearn import tree\n",
        "from sklearn.tree import DecisionTreeRegressor\n",
        "model = DecisionTreeRegressor(random_state=1)\n",
        "model.fit(X_train,y_train)\n",
        "model.score(X_test,y_test)"
      ],
      "execution_count": null,
      "outputs": [
        {
          "output_type": "execute_result",
          "data": {
            "text/plain": [
              "0.9348477408963333"
            ]
          },
          "metadata": {},
          "execution_count": 29
        }
      ]
    },
    {
      "cell_type": "code",
      "metadata": {
        "colab": {
          "base_uri": "https://localhost:8080/"
        },
        "id": "FTdXrMe6DrcE",
        "outputId": "123fd52e-4aa6-4324-a6fc-28cd3e0adaed"
      },
      "source": [
        "y_predicted_DT = model.predict(X_test)\n",
        "from sklearn import metrics\n",
        "import numpy as np\n",
        "from scipy.stats import pearsonr\n",
        "\n",
        "print('Mean Absolute Error(MAE):', metrics.mean_absolute_error(y_test, y_predicted_DT))\n",
        "print('Mean Squared Error(MSE):', metrics.mean_squared_error(y_test, y_predicted_DT))\n",
        "print('Root Mean Squared Error(RMSE):', np.sqrt(metrics.mean_squared_error(y_test, y_predicted_DT)))\n",
        "print('std(RRMSE):',np.sqrt(metrics.mean_squared_error(y_test, y_predicted_DT))/np.std(y_predicted_DT))\n",
        "corr, _ = pearsonr(y_test, y_predicted_DT)\n",
        "print('Pearsons correlation coefficient(R): %.3f' % corr)\n",
        "print('Coefficient of Determination(R2):', metrics.r2_score(y_test, y_predicted_DT))"
      ],
      "execution_count": null,
      "outputs": [
        {
          "output_type": "stream",
          "name": "stdout",
          "text": [
            "Mean Absolute Error(MAE): 28.411183716709413\n",
            "Mean Squared Error(MSE): 10813.845227815718\n",
            "Root Mean Squared Error(RMSE): 103.98964000233734\n",
            "std(RRMSE): 0.3078155465738806\n",
            "Pearsons correlation coefficient(R): 0.978\n",
            "Coefficient of Determination(R2): 0.9348477408963334\n"
          ]
        }
      ]
    },
    {
      "cell_type": "markdown",
      "metadata": {
        "id": "2J-qiNBKDrcG"
      },
      "source": [
        "## Simple Ensemble Technique"
      ]
    },
    {
      "cell_type": "markdown",
      "metadata": {
        "id": "0wQpJYy0DrcH"
      },
      "source": [
        "### 1. Max Voting Technique:"
      ]
    },
    {
      "cell_type": "code",
      "metadata": {
        "id": "25wfDDiUDrcI"
      },
      "source": [
        "from sklearn.ensemble import VotingRegressor\n",
        "from sklearn.linear_model import LinearRegression\n",
        "\n",
        "from sklearn import tree\n",
        "from sklearn.tree import DecisionTreeRegressor\n",
        "\n",
        "model_1 = LinearRegression()\n",
        "model_2 = DecisionTreeRegressor(random_state=1)\n",
        "model_final = VotingRegressor([('lr', model_1), ('dt', model_2)])\n",
        "\n"
      ],
      "execution_count": null,
      "outputs": []
    },
    {
      "cell_type": "code",
      "metadata": {
        "colab": {
          "base_uri": "https://localhost:8080/"
        },
        "id": "FvZrJpoIDrcJ",
        "outputId": "3acd898b-2704-45e8-b26b-3838ea2c2bd3"
      },
      "source": [
        "model_final.fit(X_train,y_train)\n",
        "model_final.score(X_test,y_test)\n"
      ],
      "execution_count": null,
      "outputs": [
        {
          "output_type": "execute_result",
          "data": {
            "text/plain": [
              "0.8046526473656465"
            ]
          },
          "metadata": {},
          "execution_count": 32
        }
      ]
    },
    {
      "cell_type": "code",
      "metadata": {
        "colab": {
          "base_uri": "https://localhost:8080/"
        },
        "id": "G_s_mJyxDrcL",
        "outputId": "ceb7155f-b325-4c3b-f227-368a70e002fe"
      },
      "source": [
        "y_predicted = model.predict(X_test)\n",
        "from sklearn import metrics\n",
        "import numpy as np\n",
        "from scipy.stats import pearsonr\n",
        "\n",
        "print('Mean Absolute Error(MAE):', metrics.mean_absolute_error(y_test, y_predicted))\n",
        "print('Mean Squared Error(MSE):', metrics.mean_squared_error(y_test, y_predicted))\n",
        "print('Root Mean Squared Error(RMSE):', np.sqrt(metrics.mean_squared_error(y_test, y_predicted)))\n",
        "print('std(RRMSE):',np.sqrt(metrics.mean_squared_error(y_test, y_predicted))/np.std(y_predicted))\n",
        "corr, _ = pearsonr(y_test, y_predicted)\n",
        "print('Pearsons correlation coefficient(R): %.3f' % corr)\n",
        "print('Coefficient of Determination(R2):', metrics.r2_score(y_test, y_predicted))\n"
      ],
      "execution_count": null,
      "outputs": [
        {
          "output_type": "stream",
          "name": "stdout",
          "text": [
            "Mean Absolute Error(MAE): 28.411183716709413\n",
            "Mean Squared Error(MSE): 10813.845227815718\n",
            "Root Mean Squared Error(RMSE): 103.98964000233734\n",
            "std(RRMSE): 0.3078155465738806\n",
            "Pearsons correlation coefficient(R): 0.978\n",
            "Coefficient of Determination(R2): 0.9348477408963334\n"
          ]
        }
      ]
    },
    {
      "cell_type": "markdown",
      "metadata": {
        "id": "dmgkQW5BDrcN"
      },
      "source": [
        "# Advanced Ensemble techniques"
      ]
    },
    {
      "cell_type": "markdown",
      "metadata": {
        "id": "vuB-N9tfDrcO"
      },
      "source": [
        "## 1. Stacking "
      ]
    },
    {
      "cell_type": "code",
      "metadata": {
        "colab": {
          "base_uri": "https://localhost:8080/"
        },
        "id": "SUt9HqzFDrcQ",
        "outputId": "2c8683e8-be56-4eb4-85e1-4eb1363466fd"
      },
      "source": [
        "from sklearn.ensemble import StackingRegressor\n",
        "from sklearn.svm import SVR\n",
        "from sklearn.ensemble import RandomForestRegressor\n",
        "from sklearn.neighbors import KNeighborsRegressor\n",
        "\n",
        "def get_stacking():\n",
        "    # define the base models\n",
        "    level0 = list()\n",
        "    level0.append(('knn', KNeighborsRegressor()))\n",
        "    level0.append(('cart', DecisionTreeRegressor()))\n",
        "    level0.append(('svm', SVR()))\n",
        "    # define meta learner model\n",
        "    level1 = RandomForestRegressor()\n",
        "    # define the stacking ensemble\n",
        "    model = StackingRegressor(estimators=level0, final_estimator=level1, cv=5)\n",
        "    return model\n",
        "get_stacking()\n",
        "\n",
        "model.fit(X_train, y_train)\n",
        "model.score(X_test,y_test)"
      ],
      "execution_count": null,
      "outputs": [
        {
          "output_type": "execute_result",
          "data": {
            "text/plain": [
              "0.9348477408963333"
            ]
          },
          "metadata": {},
          "execution_count": 34
        }
      ]
    },
    {
      "cell_type": "code",
      "metadata": {
        "colab": {
          "base_uri": "https://localhost:8080/"
        },
        "id": "iZDy1blFDrcS",
        "outputId": "4c4dd221-138d-425a-9bc1-4d72f036db2c"
      },
      "source": [
        "y_predicted = model.predict(X_test)\n",
        "from sklearn import metrics\n",
        "import numpy as np\n",
        "from scipy.stats import pearsonr\n",
        "\n",
        "print('Mean Absolute Error(MAE):', metrics.mean_absolute_error(y_test, y_predicted))\n",
        "print('Mean Squared Error(MSE):', metrics.mean_squared_error(y_test, y_predicted))\n",
        "print('Root Mean Squared Error(RMSE):', np.sqrt(metrics.mean_squared_error(y_test, y_predicted)))\n",
        "print('std(RRMSE):',np.sqrt(metrics.mean_squared_error(y_test, y_predicted))/np.std(y_predicted))\n",
        "corr, _ = pearsonr(y_test, y_predicted)\n",
        "print('Pearsons correlation coefficient(R): %.3f' % corr)\n",
        "print('Coefficient of Determination(R2):', metrics.r2_score(y_test, y_predicted))\n"
      ],
      "execution_count": null,
      "outputs": [
        {
          "output_type": "stream",
          "name": "stdout",
          "text": [
            "Mean Absolute Error(MAE): 28.411183716709413\n",
            "Mean Squared Error(MSE): 10813.845227815718\n",
            "Root Mean Squared Error(RMSE): 103.98964000233734\n",
            "std(RRMSE): 0.3078155465738806\n",
            "Pearsons correlation coefficient(R): 0.978\n",
            "Coefficient of Determination(R2): 0.9348477408963334\n"
          ]
        }
      ]
    },
    {
      "cell_type": "markdown",
      "metadata": {
        "id": "uRQiD2XKDrcT"
      },
      "source": [
        "## 3. Bagging"
      ]
    },
    {
      "cell_type": "markdown",
      "metadata": {
        "id": "lm8vsZEaDrcV"
      },
      "source": [
        "#### 3.1 Bagging meta-estimator"
      ]
    },
    {
      "cell_type": "code",
      "metadata": {
        "colab": {
          "base_uri": "https://localhost:8080/"
        },
        "id": "MaBdVdOoDrcW",
        "outputId": "b8bac2ca-a27c-4d22-9364-2f5024876d12"
      },
      "source": [
        "from sklearn.ensemble import BaggingRegressor\n",
        "model = BaggingRegressor(tree.DecisionTreeRegressor(random_state=1))\n",
        "model.fit(X_train, y_train)\n",
        "model.score(X_test,y_test)"
      ],
      "execution_count": null,
      "outputs": [
        {
          "output_type": "execute_result",
          "data": {
            "text/plain": [
              "0.9865933686744183"
            ]
          },
          "metadata": {},
          "execution_count": 36
        }
      ]
    },
    {
      "cell_type": "code",
      "metadata": {
        "colab": {
          "base_uri": "https://localhost:8080/"
        },
        "id": "DSwg9jR1DrcX",
        "outputId": "cc5a5196-bb27-453f-ccf1-75315219c08e"
      },
      "source": [
        "y_predicted = model.predict(X_test)\n",
        "from sklearn import metrics\n",
        "import numpy as np\n",
        "from scipy.stats import pearsonr\n",
        "\n",
        "print('Mean Absolute Error(MAE):', metrics.mean_absolute_error(y_test, y_predicted))\n",
        "print('Mean Squared Error(MSE):', metrics.mean_squared_error(y_test, y_predicted))\n",
        "print('Root Mean Squared Error(RMSE):', np.sqrt(metrics.mean_squared_error(y_test, y_predicted)))\n",
        "print('std(RRMSE):',np.sqrt(metrics.mean_squared_error(y_test, y_predicted))/np.std(y_predicted))\n",
        "corr, _ = pearsonr(y_test, y_predicted)\n",
        "print('Pearsons correlation coefficient(R): %.3f' % corr)\n",
        "print('Coefficient of Determination(R2):', metrics.r2_score(y_test, y_predicted))"
      ],
      "execution_count": null,
      "outputs": [
        {
          "output_type": "stream",
          "name": "stdout",
          "text": [
            "Mean Absolute Error(MAE): 14.97875496576041\n",
            "Mean Squared Error(MSE): 2225.2065880102073\n",
            "Root Mean Squared Error(RMSE): 47.17209543798332\n",
            "std(RRMSE): 0.1190716973180099\n",
            "Pearsons correlation coefficient(R): 0.994\n",
            "Coefficient of Determination(R2): 0.9865933686744183\n"
          ]
        }
      ]
    },
    {
      "cell_type": "markdown",
      "metadata": {
        "id": "r1CzbNjDDrcb"
      },
      "source": [
        "### 3.2 Random Forest"
      ]
    },
    {
      "cell_type": "code",
      "metadata": {
        "colab": {
          "base_uri": "https://localhost:8080/"
        },
        "id": "VyjH9sK-Drcd",
        "outputId": "6bad13a4-81de-47a0-97eb-c2a026fec7fd"
      },
      "source": [
        "from sklearn.ensemble import RandomForestRegressor\n",
        "model = RandomForestRegressor(n_estimators=230)\n",
        "model.fit(X_train, y_train)\n",
        "model.score(X_test, y_test)"
      ],
      "execution_count": null,
      "outputs": [
        {
          "output_type": "execute_result",
          "data": {
            "text/plain": [
              "0.9494444721241703"
            ]
          },
          "metadata": {},
          "execution_count": 38
        }
      ]
    },
    {
      "cell_type": "code",
      "metadata": {
        "colab": {
          "base_uri": "https://localhost:8080/"
        },
        "id": "YIEpJZPADrce",
        "outputId": "69675cfd-47b6-46cd-d981-77981a10f38a"
      },
      "source": [
        "y_predicted_RF = model.predict(X_test)\n",
        "from sklearn import metrics\n",
        "import numpy as np\n",
        "from scipy.stats import pearsonr\n",
        "\n",
        "print('Mean Absolute Error(MAE):', metrics.mean_absolute_error(y_test, y_predicted_RF))\n",
        "print('Mean Squared Error(MSE):', metrics.mean_squared_error(y_test, y_predicted_RF))\n",
        "print('Root Mean Squared Error(RMSE):', np.sqrt(metrics.mean_squared_error(y_test, y_predicted_RF)))\n",
        "print('std(RRMSE):',np.sqrt(metrics.mean_squared_error(y_test, y_predicted_RF))/np.std(y_predicted_RF))\n",
        "corr, _ = pearsonr(y_test, y_predicted_RF)\n",
        "print('Pearsons correlation coefficient(R): %.3f' % corr)\n",
        "print('Coefficient of Determination(R2):', metrics.r2_score(y_test, y_predicted_RF))\n"
      ],
      "execution_count": null,
      "outputs": [
        {
          "output_type": "stream",
          "name": "stdout",
          "text": [
            "Mean Absolute Error(MAE): 24.866212231719565\n",
            "Mean Squared Error(MSE): 8391.108173085246\n",
            "Root Mean Squared Error(RMSE): 91.60299216229373\n",
            "std(RRMSE): 0.2714067362103255\n",
            "Pearsons correlation coefficient(R): 0.987\n",
            "Coefficient of Determination(R2): 0.9494444721241704\n"
          ]
        }
      ]
    },
    {
      "cell_type": "markdown",
      "metadata": {
        "id": "rWbS55TODrcf"
      },
      "source": [
        "## 4. Boosting Technique:"
      ]
    },
    {
      "cell_type": "markdown",
      "metadata": {
        "id": "Qh4hg3FIDrcg"
      },
      "source": [
        "### 4.1 AdaBoost:"
      ]
    },
    {
      "cell_type": "code",
      "metadata": {
        "colab": {
          "base_uri": "https://localhost:8080/"
        },
        "id": "_oQ_3j2eDrch",
        "outputId": "0df66c79-8f92-4fbf-c81b-4dd847cb57c2"
      },
      "source": [
        "from sklearn.ensemble import AdaBoostRegressor\n",
        "model = AdaBoostRegressor()\n",
        "model.fit(X_train, y_train)\n",
        "model.score(X_test,y_test)"
      ],
      "execution_count": null,
      "outputs": [
        {
          "output_type": "execute_result",
          "data": {
            "text/plain": [
              "0.853642660271042"
            ]
          },
          "metadata": {},
          "execution_count": 40
        }
      ]
    },
    {
      "cell_type": "code",
      "metadata": {
        "colab": {
          "base_uri": "https://localhost:8080/"
        },
        "id": "mGZmiF7zDrcj",
        "outputId": "1d734d65-20c0-4a4c-bbe2-bc55076f408c"
      },
      "source": [
        "y_predicted = model.predict(X_test)\n",
        "from sklearn import metrics\n",
        "import numpy as np\n",
        "from scipy.stats import pearsonr\n",
        "\n",
        "print('Mean Absolute Error(MAE):', metrics.mean_absolute_error(y_test, y_predicted))\n",
        "print('Mean Squared Error(MSE):', metrics.mean_squared_error(y_test, y_predicted))\n",
        "print('Root Mean Squared Error(RMSE):', np.sqrt(metrics.mean_squared_error(y_test, y_predicted)))\n",
        "print('std(RRMSE):',np.sqrt(metrics.mean_squared_error(y_test, y_predicted))/np.std(y_predicted))\n",
        "corr, _ = pearsonr(y_test, y_predicted)\n",
        "print('Pearsons correlation coefficient(R): %.3f' % corr)\n",
        "print('Coefficient of Determination(R2):', metrics.r2_score(y_test, y_predicted))\n"
      ],
      "execution_count": null,
      "outputs": [
        {
          "output_type": "stream",
          "name": "stdout",
          "text": [
            "Mean Absolute Error(MAE): 59.23101198214627\n",
            "Mean Squared Error(MSE): 24292.10654484776\n",
            "Root Mean Squared Error(RMSE): 155.8592523556037\n",
            "std(RRMSE): 0.5492569061107262\n",
            "Pearsons correlation coefficient(R): 0.961\n",
            "Coefficient of Determination(R2): 0.853642660271042\n"
          ]
        }
      ]
    },
    {
      "cell_type": "markdown",
      "metadata": {
        "id": "giQpzql_Drck"
      },
      "source": [
        "### 4.2 Gradient Boosting (GBM):"
      ]
    },
    {
      "cell_type": "code",
      "metadata": {
        "colab": {
          "base_uri": "https://localhost:8080/"
        },
        "id": "G_z2LObpDrcl",
        "outputId": "71491002-2814-4e1e-ffa8-fe7e43e76166"
      },
      "source": [
        "from sklearn.ensemble import GradientBoostingRegressor\n",
        "model= GradientBoostingRegressor()\n",
        "model.fit(X_train, y_train)\n",
        "print(model.score(X_test,y_test))"
      ],
      "execution_count": null,
      "outputs": [
        {
          "output_type": "stream",
          "name": "stdout",
          "text": [
            "0.9980546884866249\n"
          ]
        }
      ]
    },
    {
      "cell_type": "code",
      "metadata": {
        "colab": {
          "base_uri": "https://localhost:8080/"
        },
        "id": "-X7g3p3uDrcn",
        "outputId": "3d877c88-4263-4df2-912e-4a6bf356a805"
      },
      "source": [
        "y_predicted_gbm = model.predict(X_test)\n",
        "from sklearn import metrics\n",
        "import numpy as np\n",
        "from scipy.stats import pearsonr\n",
        "\n",
        "print('Coefficient of Determination(R2):', metrics.r2_score(y_test, y_predicted_gbm))\n",
        "print('Mean Absolute Error(MAE):', metrics.mean_absolute_error(y_test, y_predicted_gbm))\n",
        "print('Mean Squared Error(MSE):', metrics.mean_squared_error(y_test, y_predicted_gbm))\n",
        "print('Root Mean Squared Error(RMSE):', np.sqrt(metrics.mean_squared_error(y_test, y_predicted_gbm)))\n",
        "print('std(RRMSE):',np.sqrt(metrics.mean_squared_error(y_test, y_predicted_gbm))/np.std(y_predicted_gbm))\n",
        "corr, _ = pearsonr(y_test, y_predicted_gbm)\n",
        "print('Pearsons correlation coefficient(R): %.3f' % corr)\n",
        "\n"
      ],
      "execution_count": null,
      "outputs": [
        {
          "output_type": "stream",
          "name": "stdout",
          "text": [
            "Coefficient of Determination(R2): 0.9980546884866248\n",
            "Mean Absolute Error(MAE): 8.160491549146755\n",
            "Mean Squared Error(MSE): 322.87902084954385\n",
            "Root Mean Squared Error(RMSE): 17.968834710396326\n",
            "std(RRMSE): 0.043319344066750726\n",
            "Pearsons correlation coefficient(R): 0.999\n"
          ]
        }
      ]
    },
    {
      "cell_type": "markdown",
      "metadata": {
        "id": "IHugQoLmihir"
      },
      "source": [
        "Gboost with finetuning"
      ]
    },
    {
      "cell_type": "code",
      "metadata": {
        "colab": {
          "base_uri": "https://localhost:8080/"
        },
        "id": "TnE0DczPimXs",
        "outputId": "aa60e948-9906-4583-c946-51d57d0771ca"
      },
      "source": [
        "from sklearn.ensemble import GradientBoostingRegressor\n",
        "from sklearn.model_selection import GridSearchCV\n",
        "\n",
        "parameters = {\n",
        "    \"loss\":[\"huber\"],\n",
        "    \"learning_rate\": [0.1, 0.15, 0.3],\n",
        "    \"min_samples_split\": np.linspace(0.1, 0.5, 1),\n",
        "    \"min_samples_leaf\": np.linspace(0.1, 0.5, 1),\n",
        "    \"max_depth\":[3],\n",
        "    \"subsample\":[0.5, 0.75, 0.85, 1.0],\n",
        "    \"alpha\": [0.25,0.5,0.75,0.9,0.95],\n",
        "    \"n_estimators\":[100]\n",
        "    }\n",
        "\n",
        "model1 = GridSearchCV(GradientBoostingRegressor(), parameters, cv=5)\n",
        "model1.fit(X_train, y_train)\n",
        "print(model1.score(X_test,y_test))\n",
        "print(model1.best_estimator_.learning_rate)"
      ],
      "execution_count": null,
      "outputs": [
        {
          "output_type": "stream",
          "name": "stdout",
          "text": [
            "0.6413486808207358\n",
            "0.3\n"
          ]
        }
      ]
    },
    {
      "cell_type": "code",
      "metadata": {
        "colab": {
          "base_uri": "https://localhost:8080/"
        },
        "id": "Hsso52LAkGSV",
        "outputId": "7d4613e1-2a68-4e3e-859b-dfa8578ca523"
      },
      "source": [
        "y_predicted_gbm1 = model1.predict(X_test)\n",
        "from sklearn import metrics\n",
        "import numpy as np\n",
        "from scipy.stats import pearsonr\n",
        "\n",
        "print('Coefficient of Determination(R2):', metrics.r2_score(y_test, y_predicted_gbm1))\n",
        "print('Mean Absolute Error(MAE):', metrics.mean_absolute_error(y_test, y_predicted_gbm1))\n",
        "print('Mean Squared Error(MSE):', metrics.mean_squared_error(y_test, y_predicted_gbm1))\n",
        "print('Root Mean Squared Error(RMSE):', np.sqrt(metrics.mean_squared_error(y_test, y_predicted_gbm1)))\n",
        "print('std(RRMSE):',np.sqrt(metrics.mean_squared_error(y_test, y_predicted_gbm1))/np.std(y_predicted_gbm1))\n",
        "corr, _ = pearsonr(y_test, y_predicted_gbm1)\n",
        "print('Pearsons correlation coefficient(R): %.3f' % corr)"
      ],
      "execution_count": null,
      "outputs": [
        {
          "output_type": "stream",
          "name": "stdout",
          "text": [
            "Coefficient of Determination(R2): 0.6413486808207358\n",
            "Mean Absolute Error(MAE): 77.50061204778477\n",
            "Mean Squared Error(MSE): 59528.24828660824\n",
            "Root Mean Squared Error(RMSE): 243.9841148243226\n",
            "std(RRMSE): 1.2249157750654907\n",
            "Pearsons correlation coefficient(R): 0.910\n"
          ]
        }
      ]
    },
    {
      "cell_type": "markdown",
      "metadata": {
        "id": "9ltmY-_qwP_D"
      },
      "source": [
        "GBosst with finetuning 1"
      ]
    },
    {
      "cell_type": "code",
      "metadata": {
        "colab": {
          "base_uri": "https://localhost:8080/"
        },
        "id": "h2Eg_LduwU7W",
        "outputId": "8bbced8a-dc3f-4582-924b-8c36edb6ca0c"
      },
      "source": [
        "from sklearn.ensemble import GradientBoostingRegressor\n",
        "from sklearn.model_selection import GridSearchCV\n",
        "\n",
        "model2 = GradientBoostingRegressor(learning_rate=0.1,loss='huber', n_estimators=100, subsample=1.0, criterion='friedman_mse', min_samples_split=2, min_samples_leaf=1, min_weight_fraction_leaf=0.0, max_depth=2, min_impurity_decrease=0.0, min_impurity_split=None, init=None, random_state=None, max_features=None, alpha=0.9, verbose=0, max_leaf_nodes=None, warm_start=False, validation_fraction=0.1, n_iter_no_change=None, tol=0.0001, ccp_alpha=0.0)\n",
        "model2.fit(X_train, y_train)\n",
        "print(model2.score(X_test,y_test))\n",
        "y_predicted_gbm2 = model2.predict(X_test)\n",
        "\n",
        "print('Coefficient of Determination(R2):', metrics.r2_score(y_test, y_predicted_gbm2))\n",
        "print('Mean Absolute Error(MAE):', metrics.mean_absolute_error(y_test, y_predicted_gbm2))\n",
        "print('Mean Squared Error(MSE):', metrics.mean_squared_error(y_test, y_predicted_gbm2))\n",
        "print('Root Mean Squared Error(RMSE):', np.sqrt(metrics.mean_squared_error(y_test, y_predicted_gbm2)))\n",
        "print('std(RRMSE):',np.sqrt(metrics.mean_squared_error(y_test, y_predicted_gbm2))/np.std(y_predicted_gbm2))\n",
        "corr, _ = pearsonr(y_test, y_predicted_gbm2)\n",
        "print('Pearsons correlation coefficient(R): %.3f' % corr)"
      ],
      "execution_count": null,
      "outputs": [
        {
          "output_type": "stream",
          "name": "stdout",
          "text": [
            "0.9476857297345196\n",
            "Coefficient of Determination(R2): 0.9476857297345196\n",
            "Mean Absolute Error(MAE): 25.493553524542143\n",
            "Mean Squared Error(MSE): 8683.020813704821\n",
            "Root Mean Squared Error(RMSE): 93.18272808683389\n",
            "std(RRMSE): 0.28525725593851586\n",
            "Pearsons correlation coefficient(R): 0.993\n"
          ]
        }
      ]
    },
    {
      "cell_type": "markdown",
      "metadata": {
        "id": "RNNnRbCBDrco"
      },
      "source": [
        "### 4.3 XGBoost"
      ]
    },
    {
      "cell_type": "code",
      "metadata": {
        "colab": {
          "base_uri": "https://localhost:8080/"
        },
        "id": "GI-b63flDrco",
        "outputId": "33b578b3-7009-45da-9bed-6bf8bc5fbd82"
      },
      "source": [
        "import xgboost as xgb\n",
        "model=xgb.XGBRegressor()\n",
        "model.fit(X_train, y_train)\n",
        "model.score(X_test,y_test)"
      ],
      "execution_count": null,
      "outputs": [
        {
          "output_type": "stream",
          "name": "stdout",
          "text": [
            "[12:26:38] WARNING: /workspace/src/objective/regression_obj.cu:152: reg:linear is now deprecated in favor of reg:squarederror.\n"
          ]
        },
        {
          "output_type": "execute_result",
          "data": {
            "text/plain": [
              "0.9692240010545703"
            ]
          },
          "metadata": {},
          "execution_count": 47
        }
      ]
    },
    {
      "cell_type": "code",
      "metadata": {
        "colab": {
          "base_uri": "https://localhost:8080/"
        },
        "id": "z2S3lIHvDrcq",
        "outputId": "52b563ba-e520-4e00-c91b-bcdd9658906e"
      },
      "source": [
        "y_predicted = model.predict(X_test)\n",
        "from sklearn import metrics\n",
        "import numpy as np\n",
        "from scipy.stats import pearsonr\n",
        "\n",
        "print('Mean Absolute Error(MAE):', metrics.mean_absolute_error(y_test, y_predicted))\n",
        "print('Mean Squared Error(MSE):', metrics.mean_squared_error(y_test, y_predicted))\n",
        "print('Root Mean Squared Error(RMSE):', np.sqrt(metrics.mean_squared_error(y_test, y_predicted)))\n",
        "print('std(RRMSE):',np.sqrt(metrics.mean_squared_error(y_test, y_predicted))/np.std(y_predicted))\n",
        "corr, _ = pearsonr(y_test, y_predicted)\n",
        "print('Pearsons correlation coefficient(R): %.3f' % corr)\n",
        "print('Coefficient of Determination(R2):', metrics.r2_score(y_test, y_predicted))\n"
      ],
      "execution_count": null,
      "outputs": [
        {
          "output_type": "stream",
          "name": "stdout",
          "text": [
            "Mean Absolute Error(MAE): 18.17066946308166\n",
            "Mean Squared Error(MSE): 5108.140437582583\n",
            "Root Mean Squared Error(RMSE): 71.47125602354126\n",
            "std(RRMSE): 0.2073120217083242\n",
            "Pearsons correlation coefficient(R): 0.996\n",
            "Coefficient of Determination(R2): 0.9692240010545702\n"
          ]
        }
      ]
    },
    {
      "cell_type": "code",
      "metadata": {
        "colab": {
          "base_uri": "https://localhost:8080/",
          "height": 296
        },
        "id": "8O-t0XhIDrcr",
        "outputId": "46f6d6d2-cf4e-4f0f-d38e-542b12a05bf1"
      },
      "source": [
        "g=plt.scatter(y_test, y_predicted_gbm, color = \"blue\")\n",
        "#h=plt.scatter(y_test, y_predicted_gbm2, color = \"red\")\n",
        "#g=plt.scatter(y_test, y_predicted_DT, color = \"blue\")\n",
        "g.axes.set_xlabel('ActualValues ')\n",
        "g.axes.set_ylabel('Predictions ')\n",
        "#h.axes.set_xlabel('ActualValues ')\n",
        "#h.axes.set_ylabel('Predictions ')\n",
        "plt.plot(y_test, y_test, color = \"green\")"
      ],
      "execution_count": null,
      "outputs": [
        {
          "output_type": "execute_result",
          "data": {
            "text/plain": [
              "[<matplotlib.lines.Line2D at 0x7fc27346f7d0>]"
            ]
          },
          "metadata": {},
          "execution_count": 49
        },
        {
          "output_type": "display_data",
          "data": {
            "image/png": "[encoded data removed]",
            "text/plain": [
              "<Figure size 432x288 with 1 Axes>"
            ]
          },
          "metadata": {
            "needs_background": "light"
          }
        }
      ]
    },
    {
      "cell_type": "code",
      "metadata": {
        "colab": {
          "base_uri": "https://localhost:8080/",
          "height": 296
        },
        "id": "ibqXaQGfzuMx",
        "outputId": "d716df46-33b4-4e07-ab8b-c742eed127ab"
      },
      "source": [
        "#g=plt.scatter(y_test, y_predicted_gbm, color = \"blue\")\n",
        "h=plt.scatter(y_test, y_predicted_gbm2, color = \"red\")\n",
        "#g=plt.scatter(y_test, y_predicted_DT, color = \"blue\")\n",
        "#g.axes.set_xlabel('ActualValues ')\n",
        "#g.axes.set_ylabel('Predictions ')\n",
        "h.axes.set_xlabel('ActualValues ')\n",
        "h.axes.set_ylabel('Predictions ')\n",
        "plt.plot(y_test, y_test, color = \"green\")"
      ],
      "execution_count": null,
      "outputs": [
        {
          "output_type": "execute_result",
          "data": {
            "text/plain": [
              "[<matplotlib.lines.Line2D at 0x7fc2733d5c10>]"
            ]
          },
          "metadata": {},
          "execution_count": 50
        },
        {
          "output_type": "display_data",
          "data": {
            "image/png": "[encoded data removed]",
            "text/plain": [
              "<Figure size 432x288 with 1 Axes>"
            ]
          },
          "metadata": {
            "needs_background": "light"
          }
        }
      ]
    },
    {
      "cell_type": "code",
      "metadata": {
        "id": "a2HxVspmpY9I"
      },
      "source": [
        "from sklearn.utils.validation import check_consistent_length, check_array\n",
        "\n",
        "def mean_absolute_percentage_error(y_test, y_predicted_gbm2,\n",
        "                                   sample_weight=None,\n",
        "                                   multioutput='uniform_average'):\n",
        "    \"\"\"Mean absolute percentage error regression loss.\n",
        "    Note here that we do not represent the output as a percentage in range\n",
        "    [0, 100]. Instead, we represent it in range [0, 1/eps]. Read more in the\n",
        "    :ref:`User Guide <mean_absolute_percentage_error>`.\n",
        "    .. versionadded:: 0.24\n",
        "    Parameters\n",
        "    ----------\n",
        "    y_true : array-like of shape (n_samples,) or (n_samples, n_outputs)\n",
        "        Ground truth (correct) target values.\n",
        "    y_pred : array-like of shape (n_samples,) or (n_samples, n_outputs)\n",
        "        Estimated target values.\n",
        "    sample_weight : array-like of shape (n_samples,), default=None\n",
        "        Sample weights.\n",
        "    multioutput : {'raw_values', 'uniform_average'} or array-like\n",
        "        Defines aggregating of multiple output values.\n",
        "        Array-like value defines weights used to average errors.\n",
        "        If input is list then the shape must be (n_outputs,).\n",
        "        'raw_values' :\n",
        "            Returns a full set of errors in case of multioutput input.\n",
        "        'uniform_average' :\n",
        "            Errors of all outputs are averaged with uniform weight.\n",
        "    Returns\n",
        "    -------\n",
        "    loss : float or ndarray of floats in the range [0, 1/eps]\n",
        "        If multioutput is 'raw_values', then mean absolute percentage error\n",
        "        is returned for each output separately.\n",
        "        If multioutput is 'uniform_average' or an ndarray of weights, then the\n",
        "        weighted average of all output errors is returned.\n",
        "        MAPE output is non-negative floating point. The best value is 0.0.\n",
        "        But note the fact that bad predictions can lead to arbitarily large\n",
        "        MAPE values, especially if some y_true values are very close to zero.\n",
        "        Note that we return a large value instead of `inf` when y_true is zero.\n",
        "    Examples\n",
        "    --------\n",
        "    >>> from sklearn.metrics import mean_absolute_percentage_error\n",
        "    >>> y_true = [3, -0.5, 2, 7]\n",
        "    >>> y_pred = [2.5, 0.0, 2, 8]\n",
        "    >>> mean_absolute_percentage_error(y_true, y_pred)\n",
        "    0.3273...\n",
        "    >>> y_true = [[0.5, 1], [-1, 1], [7, -6]]\n",
        "    >>> y_pred = [[0, 2], [-1, 2], [8, -5]]\n",
        "    >>> mean_absolute_percentage_error(y_true, y_pred)\n",
        "    0.5515...\n",
        "    >>> mean_absolute_percentage_error(y_true, y_pred, multioutput=[0.3, 0.7])\n",
        "    0.6198...\n",
        "    \"\"\"\n",
        "    y_type, y_test, y_predicted_gbm2, multioutput = _check_reg_targets(\n",
        "        y_test, y_predicted_gbm2, multioutput)\n",
        "    check_consistent_length(y_test, y_predicted_gbm2, sample_weight)\n",
        "    epsilon = np.finfo(np.float64).eps\n",
        "    mape = np.abs(y_predicted_gbm2 - y_test) / np.maximum(np.abs(y_test), epsilon)\n",
        "    output_errors = np.average(mape,\n",
        "                               weights=sample_weight, axis=0)\n",
        "    if isinstance(multioutput, str):\n",
        "        if multioutput == 'raw_values':\n",
        "            return output_errors\n",
        "        elif multioutput == 'uniform_average':\n",
        "            # pass None as weights to np.average: uniform mean\n",
        "            multioutput = None\n",
        "\n",
        "    return np.average(output_errors, weights=multioutput)\n",
        "\n",
        "def _check_reg_targets(y_test, y_predicted_gbm2, multioutput, dtype=\"numeric\"):\n",
        "    \"\"\"Check that y_true and y_pred belong to the same regression task.\n",
        "    Parameters\n",
        "    ----------\n",
        "    y_true : array-like\n",
        "    y_pred : array-like\n",
        "    multioutput : array-like or string in ['raw_values', uniform_average',\n",
        "        'variance_weighted'] or None\n",
        "        None is accepted due to backward compatibility of r2_score().\n",
        "    Returns\n",
        "    -------\n",
        "    type_true : one of {'continuous', continuous-multioutput'}\n",
        "        The type of the true target data, as output by\n",
        "        'utils.multiclass.type_of_target'.\n",
        "    y_true : array-like of shape (n_samples, n_outputs)\n",
        "        Ground truth (correct) target values.\n",
        "    y_pred : array-like of shape (n_samples, n_outputs)\n",
        "        Estimated target values.\n",
        "    multioutput : array-like of shape (n_outputs) or string in ['raw_values',\n",
        "        uniform_average', 'variance_weighted'] or None\n",
        "        Custom output weights if ``multioutput`` is array-like or\n",
        "        just the corresponding argument if ``multioutput`` is a\n",
        "        correct keyword.\n",
        "    dtype : str or list, default=\"numeric\"\n",
        "        the dtype argument passed to check_array.\n",
        "    \"\"\"\n",
        "    check_consistent_length(y_test, y_predicted_gbm2)\n",
        "    y_test = check_array(y_test, ensure_2d=False, dtype=dtype)\n",
        "    y_predicted_gbm2 = check_array(y_predicted_gbm2, ensure_2d=False, dtype=dtype)\n",
        "\n",
        "    if y_test.ndim == 1:\n",
        "        y_test = y_test.reshape((-1, 1))\n",
        "\n",
        "    if y_predicted_gbm2.ndim == 1:\n",
        "        y_predicted_gbm2 = y_predicted_gbm2.reshape((-1, 1))\n",
        "\n",
        "    if y_test.shape[1] != y_predicted_gbm2.shape[1]:\n",
        "        raise ValueError(\"y_true and y_pred have different number of output \"\n",
        "                         \"({0}!={1})\".format(y_test.shape[1], y_predicted_gbm2.shape[1]))\n",
        "\n",
        "    n_outputs = y_test.shape[1]\n",
        "    allowed_multioutput_str = ('raw_values', 'uniform_average',\n",
        "                               'variance_weighted')\n",
        "    if isinstance(multioutput, str):\n",
        "        if multioutput not in allowed_multioutput_str:\n",
        "            raise ValueError(\"Allowed 'multioutput' string values are {}. \"\n",
        "                             \"You provided multioutput={!r}\".format(\n",
        "                                 allowed_multioutput_str,\n",
        "                                 multioutput))\n",
        "    elif multioutput is not None:\n",
        "        multioutput = check_array(multioutput, ensure_2d=False)\n",
        "        if n_outputs == 1:\n",
        "            raise ValueError(\"Custom weights are useful only in \"\n",
        "                             \"multi-output cases.\")\n",
        "        elif n_outputs != len(multioutput):\n",
        "            raise ValueError((\"There must be equally many custom weights \"\n",
        "                              \"(%d) as outputs (%d).\") %\n",
        "                             (len(multioutput), n_outputs))\n",
        "    y_type = 'continuous' if n_outputs == 1 else 'continuous-multioutput'\n",
        "\n",
        "    return y_type, y_test, y_predicted_gbm2, multioutput"
      ],
      "execution_count": null,
      "outputs": []
    },
    {
      "cell_type": "code",
      "metadata": {
        "colab": {
          "base_uri": "https://localhost:8080/"
        },
        "id": "42-0hPCHDrcs",
        "outputId": "a650cd74-eeb6-4d0f-e64f-e3499af6be7b"
      },
      "source": [
        "mean_absolute_percentage_error(y_test, y_predicted_gbm2)"
      ],
      "execution_count": null,
      "outputs": [
        {
          "output_type": "execute_result",
          "data": {
            "text/plain": [
              "1508847.3864266276"
            ]
          },
          "metadata": {},
          "execution_count": 52
        }
      ]
    }
  ]
}